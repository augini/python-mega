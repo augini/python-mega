{
 "cells": [
  {
   "cell_type": "code",
   "execution_count": 4,
   "id": "666f6e8d",
   "metadata": {},
   "outputs": [
    {
     "name": "stdout",
     "output_type": "stream",
     "text": [
      "hey there\n",
      "I started testing jupyter notebook\n",
      "Even though this is just a testing notebook, it has tons of advantages and disadvatnages\n"
     ]
    }
   ],
   "source": [
    "print(\"hey there\")\n",
    "print(\"I started testing jupyter notebook\")\n",
    "print(\"Even though this is just a testing notebook, it has tons of advantages and disadvatnages\")"
   ]
  },
  {
   "cell_type": "code",
   "execution_count": null,
   "id": "ae26e2c9",
   "metadata": {},
   "outputs": [],
   "source": [
    "import pandas\n"
   ]
  }
 ],
 "metadata": {
  "kernelspec": {
   "display_name": "Python 3 (ipykernel)",
   "language": "python",
   "name": "python3"
  },
  "language_info": {
   "codemirror_mode": {
    "name": "ipython",
    "version": 3
   },
   "file_extension": ".py",
   "mimetype": "text/x-python",
   "name": "python",
   "nbconvert_exporter": "python",
   "pygments_lexer": "ipython3",
   "version": "3.8.10"
  }
 },
 "nbformat": 4,
 "nbformat_minor": 5
}
